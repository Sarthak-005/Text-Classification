{
 "cells": [
  {
   "cell_type": "code",
   "execution_count": 3,
   "id": "d3e0c074",
   "metadata": {
    "id": "d3e0c074"
   },
   "outputs": [],
   "source": [
    "import glob\n",
    "import pandas as pd\n",
    "import numpy as np\n",
    "import os\n",
    "import re\n",
    "from tqdm import tqdm\n",
    "\n",
    "from sklearn.model_selection import train_test_split\n",
    "from sklearn.preprocessing import LabelEncoder\n",
    "\n",
    "from keras.callbacks import ModelCheckpoint,EarlyStopping,TensorBoard\n",
    "from tensorflow.keras.optimizers import Adam\n",
    "import tensorflow_addons as tf\n",
    "from tensorflow_addons.metrics import F1Score\n",
    "from keras.models import load_model\n",
    "import tensorflow as tf\n",
    "from tensorflow.keras import *\n",
    "from tensorflow.keras.preprocessing.text import Tokenizer\n",
    "\n",
    "# import norm\n",
    "from keras.constraints import unit_norm\n",
    "from tensorflow.keras.preprocessing.sequence import pad_sequences\n",
    "from keras.layers import Concatenate, Embedding, Conv1D, Dense, Flatten, MaxPooling1D, Dropout, concatenate, MaxPool1D"
   ]
  },
  {
   "cell_type": "code",
   "execution_count": null,
   "id": "XcHwj8bcogMr",
   "metadata": {
    "id": "XcHwj8bcogMr"
   },
   "outputs": [],
   "source": [
    "from google.colab import drive\n",
    "drive.mount('/content/drive')"
   ]
  },
  {
   "cell_type": "code",
   "execution_count": null,
   "id": "418ba68c",
   "metadata": {
    "colab": {
     "base_uri": "https://localhost:8080/",
     "height": 206
    },
    "id": "418ba68c",
    "outputId": "d2380519-4591-4d06-d094-fe0640047b8b"
   },
   "outputs": [
    {
     "data": {
      "text/html": [
       "\n",
       "  <div id=\"df-bcfe3496-238a-4e8b-9511-b94419f91102\">\n",
       "    <div class=\"colab-df-container\">\n",
       "      <div>\n",
       "<style scoped>\n",
       "    .dataframe tbody tr th:only-of-type {\n",
       "        vertical-align: middle;\n",
       "    }\n",
       "\n",
       "    .dataframe tbody tr th {\n",
       "        vertical-align: top;\n",
       "    }\n",
       "\n",
       "    .dataframe thead th {\n",
       "        text-align: right;\n",
       "    }\n",
       "</style>\n",
       "<table border=\"1\" class=\"dataframe\">\n",
       "  <thead>\n",
       "    <tr style=\"text-align: right;\">\n",
       "      <th></th>\n",
       "      <th>class</th>\n",
       "      <th>preprocessed_text</th>\n",
       "      <th>preprocessed_subject</th>\n",
       "      <th>preprocessed_emails</th>\n",
       "    </tr>\n",
       "  </thead>\n",
       "  <tbody>\n",
       "    <tr>\n",
       "      <th>797</th>\n",
       "      <td>alt.atheism</td>\n",
       "      <td>article that was the original answer while do...</td>\n",
       "      <td>yet more rushdie islamic law</td>\n",
       "      <td>dbstu1 tu-bs edu buphy</td>\n",
       "    </tr>\n",
       "    <tr>\n",
       "      <th>798</th>\n",
       "      <td>alt.atheism</td>\n",
       "      <td>article writes deletion had the old allegatio...</td>\n",
       "      <td>alleged deathbed conversions was asimov stamp</td>\n",
       "      <td>skyblu ccit arizona edu panix netcom CCIT ARIZ...</td>\n",
       "    </tr>\n",
       "    <tr>\n",
       "      <th>799</th>\n",
       "      <td>comp.graphics</td>\n",
       "      <td>call for presentations navy scientific visual...</td>\n",
       "      <td>call for presentations navy sciviz vr seminar</td>\n",
       "      <td>oasys navy mil ocean long legs</td>\n",
       "    </tr>\n",
       "    <tr>\n",
       "      <th>800</th>\n",
       "      <td>comp.graphics</td>\n",
       "      <td>gnuplot etc make easy plot real valued functi...</td>\n",
       "      <td>graphical representation of vector valued func...</td>\n",
       "      <td>ucssun1 sdsu edu</td>\n",
       "    </tr>\n",
       "    <tr>\n",
       "      <th>801</th>\n",
       "      <td>comp.graphics</td>\n",
       "      <td>article can someone please tell where can ftp...</td>\n",
       "      <td>dmorph</td>\n",
       "      <td>coconut cis ufl edu usl ucs</td>\n",
       "    </tr>\n",
       "  </tbody>\n",
       "</table>\n",
       "</div>\n",
       "      <button class=\"colab-df-convert\" onclick=\"convertToInteractive('df-bcfe3496-238a-4e8b-9511-b94419f91102')\"\n",
       "              title=\"Convert this dataframe to an interactive table.\"\n",
       "              style=\"display:none;\">\n",
       "        \n",
       "  <svg xmlns=\"http://www.w3.org/2000/svg\" height=\"24px\"viewBox=\"0 0 24 24\"\n",
       "       width=\"24px\">\n",
       "    <path d=\"M0 0h24v24H0V0z\" fill=\"none\"/>\n",
       "    <path d=\"M18.56 5.44l.94 2.06.94-2.06 2.06-.94-2.06-.94-.94-2.06-.94 2.06-2.06.94zm-11 1L8.5 8.5l.94-2.06 2.06-.94-2.06-.94L8.5 2.5l-.94 2.06-2.06.94zm10 10l.94 2.06.94-2.06 2.06-.94-2.06-.94-.94-2.06-.94 2.06-2.06.94z\"/><path d=\"M17.41 7.96l-1.37-1.37c-.4-.4-.92-.59-1.43-.59-.52 0-1.04.2-1.43.59L10.3 9.45l-7.72 7.72c-.78.78-.78 2.05 0 2.83L4 21.41c.39.39.9.59 1.41.59.51 0 1.02-.2 1.41-.59l7.78-7.78 2.81-2.81c.8-.78.8-2.07 0-2.86zM5.41 20L4 18.59l7.72-7.72 1.47 1.35L5.41 20z\"/>\n",
       "  </svg>\n",
       "      </button>\n",
       "      \n",
       "  <style>\n",
       "    .colab-df-container {\n",
       "      display:flex;\n",
       "      flex-wrap:wrap;\n",
       "      gap: 12px;\n",
       "    }\n",
       "\n",
       "    .colab-df-convert {\n",
       "      background-color: #E8F0FE;\n",
       "      border: none;\n",
       "      border-radius: 50%;\n",
       "      cursor: pointer;\n",
       "      display: none;\n",
       "      fill: #1967D2;\n",
       "      height: 32px;\n",
       "      padding: 0 0 0 0;\n",
       "      width: 32px;\n",
       "    }\n",
       "\n",
       "    .colab-df-convert:hover {\n",
       "      background-color: #E2EBFA;\n",
       "      box-shadow: 0px 1px 2px rgba(60, 64, 67, 0.3), 0px 1px 3px 1px rgba(60, 64, 67, 0.15);\n",
       "      fill: #174EA6;\n",
       "    }\n",
       "\n",
       "    [theme=dark] .colab-df-convert {\n",
       "      background-color: #3B4455;\n",
       "      fill: #D2E3FC;\n",
       "    }\n",
       "\n",
       "    [theme=dark] .colab-df-convert:hover {\n",
       "      background-color: #434B5C;\n",
       "      box-shadow: 0px 1px 3px 1px rgba(0, 0, 0, 0.15);\n",
       "      filter: drop-shadow(0px 1px 2px rgba(0, 0, 0, 0.3));\n",
       "      fill: #FFFFFF;\n",
       "    }\n",
       "  </style>\n",
       "\n",
       "      <script>\n",
       "        const buttonEl =\n",
       "          document.querySelector('#df-bcfe3496-238a-4e8b-9511-b94419f91102 button.colab-df-convert');\n",
       "        buttonEl.style.display =\n",
       "          google.colab.kernel.accessAllowed ? 'block' : 'none';\n",
       "\n",
       "        async function convertToInteractive(key) {\n",
       "          const element = document.querySelector('#df-bcfe3496-238a-4e8b-9511-b94419f91102');\n",
       "          const dataTable =\n",
       "            await google.colab.kernel.invokeFunction('convertToInteractive',\n",
       "                                                     [key], {});\n",
       "          if (!dataTable) return;\n",
       "\n",
       "          const docLinkHtml = 'Like what you see? Visit the ' +\n",
       "            '<a target=\"_blank\" href=https://colab.research.google.com/notebooks/data_table.ipynb>data table notebook</a>'\n",
       "            + ' to learn more about interactive tables.';\n",
       "          element.innerHTML = '';\n",
       "          dataTable['output_type'] = 'display_data';\n",
       "          await google.colab.output.renderOutput(dataTable, element);\n",
       "          const docLink = document.createElement('div');\n",
       "          docLink.innerHTML = docLinkHtml;\n",
       "          element.appendChild(docLink);\n",
       "        }\n",
       "      </script>\n",
       "    </div>\n",
       "  </div>\n",
       "  "
      ],
      "text/plain": [
       "             class                                  preprocessed_text  \\\n",
       "797    alt.atheism   article that was the original answer while do...   \n",
       "798    alt.atheism   article writes deletion had the old allegatio...   \n",
       "799  comp.graphics   call for presentations navy scientific visual...   \n",
       "800  comp.graphics   gnuplot etc make easy plot real valued functi...   \n",
       "801  comp.graphics   article can someone please tell where can ftp...   \n",
       "\n",
       "                                  preprocessed_subject  \\\n",
       "797                      yet more rushdie islamic law    \n",
       "798     alleged deathbed conversions was asimov stamp    \n",
       "799      call for presentations navy sciviz vr seminar   \n",
       "800  graphical representation of vector valued func...   \n",
       "801                                             dmorph   \n",
       "\n",
       "                                   preprocessed_emails  \n",
       "797                             dbstu1 tu-bs edu buphy  \n",
       "798  skyblu ccit arizona edu panix netcom CCIT ARIZ...  \n",
       "799                     oasys navy mil ocean long legs  \n",
       "800                                   ucssun1 sdsu edu  \n",
       "801                        coconut cis ufl edu usl ucs  "
      ]
     },
     "execution_count": 4,
     "metadata": {},
     "output_type": "execute_result"
    }
   ],
   "source": [
    "df = pd.read_csv('/content/drive/MyDrive/_ML_PROJECTS/CNN_Text_Classification/data.csv')\n",
    "df = df.drop(columns=['Unnamed: 0'])\n",
    "df[797:802]"
   ]
  },
  {
   "cell_type": "code",
   "execution_count": null,
   "id": "u98L0N4wAACy",
   "metadata": {
    "colab": {
     "base_uri": "https://localhost:8080/",
     "height": 282
    },
    "id": "u98L0N4wAACy",
    "outputId": "f6f28ca5-f530-434a-c448-ede41c27b548"
   },
   "outputs": [
    {
     "data": {
      "text/plain": [
       "<matplotlib.axes._subplots.AxesSubplot at 0x7fa99f5f9c50>"
      ]
     },
     "execution_count": 5,
     "metadata": {},
     "output_type": "execute_result"
    },
    {
     "data": {
      "image/png": "[encoded data removed]",
      "text/plain": [
       "<Figure size 432x288 with 1 Axes>"
      ]
     },
     "metadata": {},
     "output_type": "display_data"
    }
   ],
   "source": [
    "df['class'].value_counts()[:20].plot(kind='barh')"
   ]
  },
  {
   "cell_type": "code",
   "execution_count": null,
   "id": "HKKaDtJwht_-",
   "metadata": {
    "id": "HKKaDtJwht_-"
   },
   "outputs": [],
   "source": [
    "cols = ['preprocessed_emails', 'preprocessed_subject', 'preprocessed_text']\n",
    "df['training'] = df[cols].apply(lambda row: ' '.join(row.values.astype(str)), axis=1)"
   ]
  },
  {
   "cell_type": "code",
   "execution_count": null,
   "id": "XZ2u2jTcqUg6",
   "metadata": {
    "colab": {
     "base_uri": "https://localhost:8080/",
     "height": 285
    },
    "id": "XZ2u2jTcqUg6",
    "outputId": "33df2fd5-5090-41ed-b929-b0042e5c1440"
   },
   "outputs": [
    {
     "data": {
      "text/html": [
       "\n",
       "  <div id=\"df-550d38da-c428-41b5-9444-6db6bb093914\">\n",
       "    <div class=\"colab-df-container\">\n",
       "      <div>\n",
       "<style scoped>\n",
       "    .dataframe tbody tr th:only-of-type {\n",
       "        vertical-align: middle;\n",
       "    }\n",
       "\n",
       "    .dataframe tbody tr th {\n",
       "        vertical-align: top;\n",
       "    }\n",
       "\n",
       "    .dataframe thead th {\n",
       "        text-align: right;\n",
       "    }\n",
       "</style>\n",
       "<table border=\"1\" class=\"dataframe\">\n",
       "  <thead>\n",
       "    <tr style=\"text-align: right;\">\n",
       "      <th></th>\n",
       "      <th>class</th>\n",
       "      <th>preprocessed_text</th>\n",
       "      <th>preprocessed_subject</th>\n",
       "      <th>preprocessed_emails</th>\n",
       "      <th>training</th>\n",
       "    </tr>\n",
       "  </thead>\n",
       "  <tbody>\n",
       "    <tr>\n",
       "      <th>797</th>\n",
       "      <td>alt.atheism</td>\n",
       "      <td>article that was the original answer while do...</td>\n",
       "      <td>yet more rushdie islamic law</td>\n",
       "      <td>dbstu1 tu-bs edu buphy</td>\n",
       "      <td>dbstu1 tu-bs edu buphy yet more rushdie islami...</td>\n",
       "    </tr>\n",
       "    <tr>\n",
       "      <th>798</th>\n",
       "      <td>alt.atheism</td>\n",
       "      <td>article writes deletion had the old allegatio...</td>\n",
       "      <td>alleged deathbed conversions was asimov stamp</td>\n",
       "      <td>skyblu ccit arizona edu panix netcom CCIT ARIZ...</td>\n",
       "      <td>skyblu ccit arizona edu panix netcom CCIT ARIZ...</td>\n",
       "    </tr>\n",
       "    <tr>\n",
       "      <th>799</th>\n",
       "      <td>comp.graphics</td>\n",
       "      <td>call for presentations navy scientific visual...</td>\n",
       "      <td>call for presentations navy sciviz vr seminar</td>\n",
       "      <td>oasys navy mil ocean long legs</td>\n",
       "      <td>oasys navy mil ocean long legs call for presen...</td>\n",
       "    </tr>\n",
       "    <tr>\n",
       "      <th>800</th>\n",
       "      <td>comp.graphics</td>\n",
       "      <td>gnuplot etc make easy plot real valued functi...</td>\n",
       "      <td>graphical representation of vector valued func...</td>\n",
       "      <td>ucssun1 sdsu edu</td>\n",
       "      <td>ucssun1 sdsu edu graphical representation of v...</td>\n",
       "    </tr>\n",
       "    <tr>\n",
       "      <th>801</th>\n",
       "      <td>comp.graphics</td>\n",
       "      <td>article can someone please tell where can ftp...</td>\n",
       "      <td>dmorph</td>\n",
       "      <td>coconut cis ufl edu usl ucs</td>\n",
       "      <td>coconut cis ufl edu usl ucs dmorph  article ca...</td>\n",
       "    </tr>\n",
       "  </tbody>\n",
       "</table>\n",
       "</div>\n",
       "      <button class=\"colab-df-convert\" onclick=\"convertToInteractive('df-550d38da-c428-41b5-9444-6db6bb093914')\"\n",
       "              title=\"Convert this dataframe to an interactive table.\"\n",
       "              style=\"display:none;\">\n",
       "        \n",
       "  <svg xmlns=\"http://www.w3.org/2000/svg\" height=\"24px\"viewBox=\"0 0 24 24\"\n",
       "       width=\"24px\">\n",
       "    <path d=\"M0 0h24v24H0V0z\" fill=\"none\"/>\n",
       "    <path d=\"M18.56 5.44l.94 2.06.94-2.06 2.06-.94-2.06-.94-.94-2.06-.94 2.06-2.06.94zm-11 1L8.5 8.5l.94-2.06 2.06-.94-2.06-.94L8.5 2.5l-.94 2.06-2.06.94zm10 10l.94 2.06.94-2.06 2.06-.94-2.06-.94-.94-2.06-.94 2.06-2.06.94z\"/><path d=\"M17.41 7.96l-1.37-1.37c-.4-.4-.92-.59-1.43-.59-.52 0-1.04.2-1.43.59L10.3 9.45l-7.72 7.72c-.78.78-.78 2.05 0 2.83L4 21.41c.39.39.9.59 1.41.59.51 0 1.02-.2 1.41-.59l7.78-7.78 2.81-2.81c.8-.78.8-2.07 0-2.86zM5.41 20L4 18.59l7.72-7.72 1.47 1.35L5.41 20z\"/>\n",
       "  </svg>\n",
       "      </button>\n",
       "      \n",
       "  <style>\n",
       "    .colab-df-container {\n",
       "      display:flex;\n",
       "      flex-wrap:wrap;\n",
       "      gap: 12px;\n",
       "    }\n",
       "\n",
       "    .colab-df-convert {\n",
       "      background-color: #E8F0FE;\n",
       "      border: none;\n",
       "      border-radius: 50%;\n",
       "      cursor: pointer;\n",
       "      display: none;\n",
       "      fill: #1967D2;\n",
       "      height: 32px;\n",
       "      padding: 0 0 0 0;\n",
       "      width: 32px;\n",
       "    }\n",
       "\n",
       "    .colab-df-convert:hover {\n",
       "      background-color: #E2EBFA;\n",
       "      box-shadow: 0px 1px 2px rgba(60, 64, 67, 0.3), 0px 1px 3px 1px rgba(60, 64, 67, 0.15);\n",
       "      fill: #174EA6;\n",
       "    }\n",
       "\n",
       "    [theme=dark] .colab-df-convert {\n",
       "      background-color: #3B4455;\n",
       "      fill: #D2E3FC;\n",
       "    }\n",
       "\n",
       "    [theme=dark] .colab-df-convert:hover {\n",
       "      background-color: #434B5C;\n",
       "      box-shadow: 0px 1px 3px 1px rgba(0, 0, 0, 0.15);\n",
       "      filter: drop-shadow(0px 1px 2px rgba(0, 0, 0, 0.3));\n",
       "      fill: #FFFFFF;\n",
       "    }\n",
       "  </style>\n",
       "\n",
       "      <script>\n",
       "        const buttonEl =\n",
       "          document.querySelector('#df-550d38da-c428-41b5-9444-6db6bb093914 button.colab-df-convert');\n",
       "        buttonEl.style.display =\n",
       "          google.colab.kernel.accessAllowed ? 'block' : 'none';\n",
       "\n",
       "        async function convertToInteractive(key) {\n",
       "          const element = document.querySelector('#df-550d38da-c428-41b5-9444-6db6bb093914');\n",
       "          const dataTable =\n",
       "            await google.colab.kernel.invokeFunction('convertToInteractive',\n",
       "                                                     [key], {});\n",
       "          if (!dataTable) return;\n",
       "\n",
       "          const docLinkHtml = 'Like what you see? Visit the ' +\n",
       "            '<a target=\"_blank\" href=https://colab.research.google.com/notebooks/data_table.ipynb>data table notebook</a>'\n",
       "            + ' to learn more about interactive tables.';\n",
       "          element.innerHTML = '';\n",
       "          dataTable['output_type'] = 'display_data';\n",
       "          await google.colab.output.renderOutput(dataTable, element);\n",
       "          const docLink = document.createElement('div');\n",
       "          docLink.innerHTML = docLinkHtml;\n",
       "          element.appendChild(docLink);\n",
       "        }\n",
       "      </script>\n",
       "    </div>\n",
       "  </div>\n",
       "  "
      ],
      "text/plain": [
       "             class                                  preprocessed_text  \\\n",
       "797    alt.atheism   article that was the original answer while do...   \n",
       "798    alt.atheism   article writes deletion had the old allegatio...   \n",
       "799  comp.graphics   call for presentations navy scientific visual...   \n",
       "800  comp.graphics   gnuplot etc make easy plot real valued functi...   \n",
       "801  comp.graphics   article can someone please tell where can ftp...   \n",
       "\n",
       "                                  preprocessed_subject  \\\n",
       "797                      yet more rushdie islamic law    \n",
       "798     alleged deathbed conversions was asimov stamp    \n",
       "799      call for presentations navy sciviz vr seminar   \n",
       "800  graphical representation of vector valued func...   \n",
       "801                                             dmorph   \n",
       "\n",
       "                                   preprocessed_emails  \\\n",
       "797                             dbstu1 tu-bs edu buphy   \n",
       "798  skyblu ccit arizona edu panix netcom CCIT ARIZ...   \n",
       "799                     oasys navy mil ocean long legs   \n",
       "800                                   ucssun1 sdsu edu   \n",
       "801                        coconut cis ufl edu usl ucs   \n",
       "\n",
       "                                              training  \n",
       "797  dbstu1 tu-bs edu buphy yet more rushdie islami...  \n",
       "798  skyblu ccit arizona edu panix netcom CCIT ARIZ...  \n",
       "799  oasys navy mil ocean long legs call for presen...  \n",
       "800  ucssun1 sdsu edu graphical representation of v...  \n",
       "801  coconut cis ufl edu usl ucs dmorph  article ca...  "
      ]
     },
     "execution_count": 7,
     "metadata": {},
     "output_type": "execute_result"
    }
   ],
   "source": [
    "df[797:802]"
   ]
  },
  {
   "cell_type": "code",
   "execution_count": null,
   "id": "93dc325a",
   "metadata": {
    "id": "93dc325a"
   },
   "outputs": [],
   "source": [
    "X,y = df['training'], df['class']\n",
    "\n",
    "#Encoding labels\n",
    "le = LabelEncoder()\n",
    "labels = le.fit_transform(y)\n",
    "y = np.asarray( tf.keras.utils.to_categorical(labels))\n",
    "\n",
    "X_train, X_test, y_train, y_test = train_test_split(X, y,\n",
    "                                                    stratify=y, \n",
    "                                                    test_size=0.25)"
   ]
  },
  {
   "cell_type": "code",
   "execution_count": null,
   "id": "244d3010",
   "metadata": {
    "colab": {
     "base_uri": "https://localhost:8080/"
    },
    "id": "244d3010",
    "outputId": "14c03e15-0de0-4cf4-d6a7-51af717a3c75"
   },
   "outputs": [
    {
     "name": "stdout",
     "output_type": "stream",
     "text": [
      "training set: \n",
      " 14121 \n",
      "testing set: \n",
      " 4707\n"
     ]
    }
   ],
   "source": [
    "print(\"training set: \\n\",len(X_train),\"\\ntesting set: \\n\",len(X_test))"
   ]
  },
  {
   "cell_type": "code",
   "execution_count": null,
   "id": "4WH9rEBhAfBq",
   "metadata": {
    "id": "4WH9rEBhAfBq"
   },
   "outputs": [],
   "source": [
    "length_sentence =[len(s.split()) for s in X_train]\n",
    "length_sentence.sort()\n",
    "length_sentence = np.array(length_sentence)"
   ]
  },
  {
   "cell_type": "code",
   "execution_count": null,
   "id": "xLpz44UpAjT6",
   "metadata": {
    "colab": {
     "base_uri": "https://localhost:8080/"
    },
    "id": "xLpz44UpAjT6",
    "outputId": "be8cce49-4be8-45e4-b806-a6b0f43b2a85"
   },
   "outputs": [
    {
     "data": {
      "text/plain": [
       "839"
      ]
     },
     "execution_count": 11,
     "metadata": {},
     "output_type": "execute_result"
    }
   ],
   "source": [
    "percentile_98 = int(np.percentile(length_sentence,98))\n",
    "percentile_98"
   ]
  },
  {
   "cell_type": "code",
   "execution_count": null,
   "id": "0d10c114",
   "metadata": {
    "id": "0d10c114"
   },
   "outputs": [],
   "source": [
    "tokenizer = Tokenizer(filters='!\"#$%&()*+,-./:;<=>?@[\\\\]^`{|}~\\t\\n', oov_token=\"<OOV>\")\n",
    "tokenizer.fit_on_texts(X_train)\n",
    "word_index = tokenizer.word_index\n",
    "\n",
    "#Generating sequences\n",
    "#text_train = X_train.values\n",
    "#text_test = X_test.values\n",
    "train_sequences = tokenizer.texts_to_sequences(X_train.values)\n",
    "test_sequences = tokenizer.texts_to_sequences(X_test.values)\n",
    "\n",
    "#Padding\n",
    "max_length = 972\n",
    "x_train = pad_sequences(train_sequences, padding='post',maxlen=max_length)\n",
    "x_test = pad_sequences(test_sequences, padding='post',maxlen=max_length)\n",
    "\n",
    "train_ds = tf.data.Dataset.from_tensor_slices((x_train,y_train))\n",
    "test_ds = tf.data.Dataset.from_tensor_slices((x_test,y_test))"
   ]
  },
  {
   "cell_type": "code",
   "execution_count": null,
   "id": "X3NGVgFEB7xx",
   "metadata": {
    "colab": {
     "base_uri": "https://localhost:8080/"
    },
    "id": "X3NGVgFEB7xx",
    "outputId": "f6bc0935-c13a-4cf4-b305-47d8a73bc59e"
   },
   "outputs": [
    {
     "name": "stdout",
     "output_type": "stream",
     "text": [
      "(14121, 972)\n",
      "(4707, 972)\n"
     ]
    }
   ],
   "source": [
    "print(x_train.shape)\n",
    "print(x_test.shape)"
   ]
  },
  {
   "cell_type": "code",
   "execution_count": null,
   "id": "b92550f7",
   "metadata": {
    "id": "b92550f7"
   },
   "outputs": [],
   "source": [
    "vocab_size = len(word_index) + 1\n",
    "max_length = 972"
   ]
  },
  {
   "cell_type": "code",
   "execution_count": null,
   "id": "Kj9A8-ZNBhMR",
   "metadata": {
    "colab": {
     "base_uri": "https://localhost:8080/"
    },
    "id": "Kj9A8-ZNBhMR",
    "outputId": "c26703dc-a086-4973-d171-ab90d2495b1f"
   },
   "outputs": [
    {
     "data": {
      "text/plain": [
       "77875"
      ]
     },
     "execution_count": 135,
     "metadata": {},
     "output_type": "execute_result"
    }
   ],
   "source": [
    "vocab_size"
   ]
  },
  {
   "cell_type": "code",
   "execution_count": null,
   "id": "10873448",
   "metadata": {
    "colab": {
     "base_uri": "https://localhost:8080/"
    },
    "id": "10873448",
    "outputId": "9f9ebb5f-78d9-49d3-d5f1-b95b9ae63c7c"
   },
   "outputs": [
    {
     "name": "stderr",
     "output_type": "stream",
     "text": [
      "400000it [00:09, 40321.18it/s]"
     ]
    },
    {
     "name": "stdout",
     "output_type": "stream",
     "text": [
      "Loaded 400000 word vectors.\n"
     ]
    },
    {
     "name": "stderr",
     "output_type": "stream",
     "text": [
      "\n"
     ]
    }
   ],
   "source": [
    "embeddings_index = dict()\n",
    "f = open('/content/drive/MyDrive/_ML_PROJECTS/CNN_Text_Classification/glove.6B/glove.6B.100d.txt',encoding=\"utf8\")\n",
    "for line in tqdm(f):\n",
    "\tvalues = line.split()\n",
    "\tword = values[0]\n",
    "\tcoefs = np.asarray(values[1:], dtype='float32')\n",
    "\tembeddings_index[word] = coefs\n",
    "f.close()\n",
    "print('Loaded %s word vectors.' % len(embeddings_index))"
   ]
  },
  {
   "cell_type": "code",
   "execution_count": null,
   "id": "8bb6fa41",
   "metadata": {
    "id": "8bb6fa41"
   },
   "outputs": [],
   "source": [
    "embedding_matrix = np.zeros((vocab_size, 100))\n",
    "for word, i in word_index.items():\n",
    "\tembedding_vector = embeddings_index.get(word)\n",
    "\tif embedding_vector is not None:\n",
    "\t\tembedding_matrix[i] = embedding_vector"
   ]
  },
  {
   "cell_type": "code",
   "execution_count": null,
   "id": "7e790541",
   "metadata": {
    "colab": {
     "base_uri": "https://localhost:8080/"
    },
    "id": "7e790541",
    "outputId": "50930a12-5fd3-4153-f925-ee218ac57f94"
   },
   "outputs": [
    {
     "data": {
      "text/plain": [
       "(77875, 100)"
      ]
     },
     "execution_count": 138,
     "metadata": {},
     "output_type": "execute_result"
    }
   ],
   "source": [
    "embedding_matrix.shape"
   ]
  },
  {
   "cell_type": "markdown",
   "id": "9da03237",
   "metadata": {
    "id": "9da03237"
   },
   "source": [
    "## Model\n",
    "\n",
    "\n"
   ]
  },
  {
   "cell_type": "code",
   "execution_count": null,
   "id": "483c7ced",
   "metadata": {
    "colab": {
     "base_uri": "https://localhost:8080/"
    },
    "id": "483c7ced",
    "outputId": "42e7fdea-75a9-4016-a089-c8803c0cbd33",
    "scrolled": true
   },
   "outputs": [
    {
     "name": "stdout",
     "output_type": "stream",
     "text": [
      "Model: \"TF_Functional_API\"\n",
      "__________________________________________________________________________________________________\n",
      " Layer (type)                   Output Shape         Param #     Connected to                     \n",
      "==================================================================================================\n",
      " input_39 (InputLayer)          [(None, 972)]        0           []                               \n",
      "                                                                                                  \n",
      " embedding_38 (Embedding)       (None, 972, 100)     7787500     ['input_39[0][0]']               \n",
      "                                                                                                  \n",
      " conv1d_143 (Conv1D)            (None, 969, 16)      6416        ['embedding_38[0][0]']           \n",
      "                                                                                                  \n",
      " conv1d_144 (Conv1D)            (None, 969, 16)      6416        ['embedding_38[0][0]']           \n",
      "                                                                                                  \n",
      " conv1d_145 (Conv1D)            (None, 969, 16)      6416        ['embedding_38[0][0]']           \n",
      "                                                                                                  \n",
      " concatenate_2 (Concatenate)    (None, 969, 48)      0           ['conv1d_143[0][0]',             \n",
      "                                                                  'conv1d_144[0][0]',             \n",
      "                                                                  'conv1d_145[0][0]']             \n",
      "                                                                                                  \n",
      " max_pooling1d_70 (MaxPooling1D  (None, 323, 48)     0           ['concatenate_2[0][0]']          \n",
      " )                                                                                                \n",
      "                                                                                                  \n",
      " conv1d_146 (Conv1D)            (None, 321, 16)      2320        ['max_pooling1d_70[0][0]']       \n",
      "                                                                                                  \n",
      " conv1d_147 (Conv1D)            (None, 321, 16)      2320        ['max_pooling1d_70[0][0]']       \n",
      "                                                                                                  \n",
      " conv1d_148 (Conv1D)            (None, 321, 16)      2320        ['max_pooling1d_70[0][0]']       \n",
      "                                                                                                  \n",
      " concatenate_3 (Concatenate)    (None, 321, 48)      0           ['conv1d_146[0][0]',             \n",
      "                                                                  'conv1d_147[0][0]',             \n",
      "                                                                  'conv1d_148[0][0]']             \n",
      "                                                                                                  \n",
      " max_pooling1d_71 (MaxPooling1D  (None, 107, 48)     0           ['concatenate_3[0][0]']          \n",
      " )                                                                                                \n",
      "                                                                                                  \n",
      " conv1d_149 (Conv1D)            (None, 105, 16)      2320        ['max_pooling1d_71[0][0]']       \n",
      "                                                                                                  \n",
      " flatten_35 (Flatten)           (None, 1680)         0           ['conv1d_149[0][0]']             \n",
      "                                                                                                  \n",
      " dropout_35 (Dropout)           (None, 1680)         0           ['flatten_35[0][0]']             \n",
      "                                                                                                  \n",
      " dense_70 (Dense)               (None, 64)           107584      ['dropout_35[0][0]']             \n",
      "                                                                                                  \n",
      " dense_71 (Dense)               (None, 20)           1300        ['dense_70[0][0]']               \n",
      "                                                                                                  \n",
      "==================================================================================================\n",
      "Total params: 7,924,912\n",
      "Trainable params: 137,412\n",
      "Non-trainable params: 7,787,500\n",
      "__________________________________________________________________________________________________\n"
     ]
    },
    {
     "name": "stderr",
     "output_type": "stream",
     "text": [
      "/usr/local/lib/python3.7/dist-packages/keras/optimizer_v2/adam.py:105: UserWarning: The `lr` argument is deprecated, use `learning_rate` instead.\n",
      "  super(Adam, self).__init__(name, **kwargs)\n"
     ]
    }
   ],
   "source": [
    "input_x = Input(shape=( max_length))\n",
    "x = layers.Embedding(vocab_size, 100, input_length=max_length,trainable=False,embeddings_initializer=tf.keras.initializers.Constant(embedding_matrix))(input_x)\n",
    "\n",
    "x_m = layers.Conv1D(filters=16,kernel_size=4, activation='relu', kernel_initializer =tf.keras.initializers.he_normal(),kernel_regularizer=tf.keras.regularizers.l2(0.001))(x)\n",
    "x_n = layers.Conv1D(filters=16,kernel_size=4, activation='relu', kernel_initializer =tf.keras.initializers.he_normal(),kernel_regularizer=tf.keras.regularizers.l2(0.001))(x)\n",
    "x_o = layers.Conv1D(filters=16,kernel_size=4, activation='relu', kernel_initializer =tf.keras.initializers.he_normal(),kernel_regularizer=tf.keras.regularizers.l2(0.001))(x)\n",
    "concatenated1 = layers.concatenate([x_m,x_n,x_o],axis = -1)\n",
    "max_pool1 = MaxPool1D(pool_size=3)(concatenated1)\n",
    "\n",
    "x_i = layers.Conv1D(filters=16, kernel_size=3, activation='relu', kernel_initializer =tf.keras.initializers.he_normal(),kernel_regularizer=tf.keras.regularizers.l2(0.001))(max_pool1)\n",
    "x_j = layers.Conv1D(filters=16,kernel_size=3, activation='relu', kernel_initializer =tf.keras.initializers.he_normal(),kernel_regularizer=tf.keras.regularizers.l2(0.001))(max_pool1)\n",
    "x_k = layers.Conv1D(filters=16,kernel_size=3, activation='relu', kernel_initializer =tf.keras.initializers.he_normal(),kernel_regularizer=tf.keras.regularizers.l2(0.001))(max_pool1)\n",
    "concatenated2 = layers.concatenate([x_i,x_j,x_k],axis = -1)\n",
    "max_pool2 = MaxPool1D(pool_size=3)(concatenated2)\n",
    "\n",
    "x1 = layers.Conv1D(filters=16, kernel_size=3, activation='relu', kernel_initializer =tf.keras.initializers.he_normal(),kernel_regularizer=tf.keras.regularizers.l2(0.001))(max_pool2)\n",
    "\n",
    "flatten = layers.Flatten()(x1)\n",
    "dropout1 = layers.Dropout(0.3)(flatten)\n",
    "dense1 = layers.Dense(64, activation='relu', kernel_initializer = tf.keras.initializers.he_normal())(dropout1)\n",
    "\n",
    "\n",
    "output= layers.Dense(20, activation='sigmoid', kernel_initializer= tf.keras.initializers.glorot_normal())(dense1)\n",
    "\n",
    "model = Model(inputs = input_x, outputs=output,name=\"TF_Functional_API\")\n",
    "\n",
    "checkpoint = ModelCheckpoint('best_model_L1.h5',  # model filename\n",
    "                             monitor='val_accuracy', # quantity to monitor\n",
    "                             verbose=0, # verbosity - 0 or 1\n",
    "                             save_best_only= True, # The latest best model will not be overwritten\n",
    "                             mode='auto') # The decision to overwrite model is made \n",
    "                                          # automatically depending on the quantity to monitor \n",
    "\n",
    "log_dir = \"logs\"\n",
    "tensorboard = TensorBoard(log_dir=log_dir,histogram_freq=1,write_graph=True)                                        \n",
    "\n",
    "early_stop = EarlyStopping(monitor=\"val_accuracy\",mode='max',patience=3)     \n",
    "reduce_ = tf.keras.callbacks.ReduceLROnPlateau(monitor='val_accuracy',patience=1,mode='auto',verbose=1,factor=0.8,min_lr=0.0001)\n",
    "\n",
    "callbacks = [reduce_,checkpoint,early_stop,tensorboard]     \n",
    "\n",
    "#LEARN_RATE = 2.0e-4\n",
    "model.compile(loss='categorical_crossentropy', # Better loss function for neural networks\n",
    "              optimizer=Adam(lr=0.001), # Adam optimizer with 1.0e-4 learning rate\n",
    "              metrics = ['accuracy', F1Score(average='micro',num_classes=20)]) # Metrics to be evaluated by the model\n",
    "\n",
    "model.summary()"
   ]
  },
  {
   "cell_type": "code",
   "execution_count": null,
   "id": "qDMVkTjqD6q-",
   "metadata": {
    "id": "qDMVkTjqD6q-"
   },
   "outputs": [],
   "source": [
    "tf.keras.utils.plot_model(model, \"multi_input_and_output_model.png\", show_shapes=True)"
   ]
  },
  {
   "cell_type": "code",
   "execution_count": null,
   "id": "VTmHqlsMEh06",
   "metadata": {
    "colab": {
     "background_save": true
    },
    "id": "VTmHqlsMEh06"
   },
   "outputs": [],
   "source": [
    "#model = load_model('/content/best_model_L1.h5')\n",
    "epochs = 40\n",
    "\n",
    "history = model.fit(x_train,y_train,\n",
    "                    epochs= epochs ,\n",
    "                    validation_data=(x_test,y_test),\n",
    "                    batch_size =64,\n",
    "                    callbacks=[callbacks],\n",
    "                    verbose=1)"
   ]
  },
  {
   "cell_type": "code",
   "execution_count": 7,
   "id": "cSB2b3Y5Eh07",
   "metadata": {
    "id": "cSB2b3Y5Eh07"
   },
   "outputs": [],
   "source": [
    "history=np.load('./model_weights/my_history.npy',allow_pickle='TRUE').item()"
   ]
  },
  {
   "cell_type": "code",
   "execution_count": 8,
   "id": "HROSD7TQitdj",
   "metadata": {
    "colab": {
     "base_uri": "https://localhost:8080/",
     "height": 295
    },
    "id": "HROSD7TQitdj",
    "outputId": "3801ed0f-7a85-4396-ed7d-7a29657b23ab"
   },
   "outputs": [
    {
     "data": {
      "image/png": "[encoded data removed]",
      "text/plain": [
       "<Figure size 432x288 with 1 Axes>"
      ]
     },
     "metadata": {
      "needs_background": "light"
     },
     "output_type": "display_data"
    }
   ],
   "source": [
    "import matplotlib.pyplot as plt\n",
    "plt.plot(history['loss'], label=' training data')\n",
    "plt.plot(history['val_loss'], label='validation data)')\n",
    "plt.title('Loss for Text Classification')\n",
    "plt.ylabel('Loss value')\n",
    "plt.xlabel('No. epoch')\n",
    "plt.legend(loc=\"upper left\")\n",
    "plt.show()"
   ]
  },
  {
   "cell_type": "code",
   "execution_count": 9,
   "id": "glEcqRZHitdl",
   "metadata": {
    "colab": {
     "base_uri": "https://localhost:8080/",
     "height": 295
    },
    "id": "glEcqRZHitdl",
    "outputId": "b1842fda-b75b-4abe-8578-8f0bb42cc3a4"
   },
   "outputs": [
    {
     "data": {
      "image/png": "[encoded data removed]",
      "text/plain": [
       "<Figure size 432x288 with 1 Axes>"
      ]
     },
     "metadata": {
      "needs_background": "light"
     },
     "output_type": "display_data"
    }
   ],
   "source": [
    "plt.plot(history['accuracy'], label=' training data')\n",
    "plt.plot(history['val_accuracy'], label='validation data)')\n",
    "plt.title('Accuracy for Text Classification')\n",
    "plt.ylabel('Loss value')\n",
    "plt.xlabel('No. epoch')\n",
    "plt.legend(loc=\"upper left\")\n",
    "plt.show()"
   ]
  },
  {
   "cell_type": "code",
   "execution_count": 13,
   "id": "fd80b950",
   "metadata": {},
   "outputs": [
    {
     "name": "stdout",
     "output_type": "stream",
     "text": [
      "Train accuracy 0.8711139559745789\n",
      "Validation accuracy 0.7656681537628174\n"
     ]
    }
   ],
   "source": [
    "print(\"Train accuracy\",max(history['accuracy']))\n",
    "print(\"Validation accuracy\",max(history['val_accuracy']))"
   ]
  },
  {
   "cell_type": "markdown",
   "id": "eGeMLs7Onria",
   "metadata": {
    "id": "eGeMLs7Onria"
   },
   "source": [
    "# Test"
   ]
  },
  {
   "cell_type": "code",
   "execution_count": null,
   "id": "lD0DLh_knt9F",
   "metadata": {
    "id": "lD0DLh_knt9F"
   },
   "outputs": [],
   "source": [
    "model = load_model('/content/best_model_L1.h5')"
   ]
  },
  {
   "cell_type": "code",
   "execution_count": null,
   "id": "LDp9aBz_oJcI",
   "metadata": {
    "colab": {
     "base_uri": "https://localhost:8080/"
    },
    "id": "LDp9aBz_oJcI",
    "outputId": "ddad239f-605f-4910-b541-ee83ae202b14"
   },
   "outputs": [
    {
     "name": "stdout",
     "output_type": "stream",
     "text": [
      "prediction shape: (1, 20) [[1.09391166e-07 1.43946484e-01 2.06691548e-02 2.04064287e-02\n",
      "  7.82901645e-02 2.94220983e-04 9.99987602e-01 2.33618379e-01\n",
      "  1.56637151e-02 1.84288606e-01 6.66271970e-02 8.57936641e-07\n",
      "  4.94991094e-01 1.87705018e-06 3.49415362e-01 2.91094215e-09\n",
      "  1.65462232e-04 3.40243318e-08 1.67680415e-03 3.19320776e-07]]\n"
     ]
    }
   ],
   "source": [
    "prediction = model.predict(x_test[1:2])\n",
    "print(\"prediction shape:\", prediction.shape, prediction)"
   ]
  },
  {
   "cell_type": "code",
   "execution_count": null,
   "id": "uyU8ggD1oh14",
   "metadata": {
    "id": "uyU8ggD1oh14"
   },
   "outputs": [],
   "source": [
    "y_classes = prediction.argmax(axis=-1)"
   ]
  },
  {
   "cell_type": "code",
   "execution_count": null,
   "id": "az9HZK9Xsv1i",
   "metadata": {
    "colab": {
     "base_uri": "https://localhost:8080/"
    },
    "id": "az9HZK9Xsv1i",
    "outputId": "843305f6-74d9-4749-a8ba-343b878cb301"
   },
   "outputs": [
    {
     "data": {
      "text/plain": [
       "array(['misc.forsale'], dtype=object)"
      ]
     },
     "execution_count": 115,
     "metadata": {},
     "output_type": "execute_result"
    }
   ],
   "source": [
    "le.inverse_transform(y_classes)"
   ]
  },
  {
   "cell_type": "code",
   "execution_count": null,
   "id": "9yOj-IvMtmaI",
   "metadata": {
    "colab": {
     "base_uri": "https://localhost:8080/"
    },
    "id": "9yOj-IvMtmaI",
    "outputId": "d839ec6f-dde4-453e-e629-a7d8035a77f8"
   },
   "outputs": [
    {
     "data": {
      "text/plain": [
       "array([[0., 0., 0., 0., 0., 0., 1., 0., 0., 0., 0., 0., 0., 0., 0., 0.,\n",
       "        0., 0., 0., 0.]], dtype=float32)"
      ]
     },
     "execution_count": 114,
     "metadata": {},
     "output_type": "execute_result"
    }
   ],
   "source": [
    "y_test[1:2]"
   ]
  },
  {
   "cell_type": "code",
   "execution_count": null,
   "id": "RsZZp32atyIj",
   "metadata": {
    "colab": {
     "base_uri": "https://localhost:8080/"
    },
    "id": "RsZZp32atyIj",
    "outputId": "c345563e-e176-42ff-a73c-4df162ea7140"
   },
   "outputs": [
    {
     "data": {
      "text/plain": [
       "array(['alt.atheism', 'comp.graphics', 'comp.os.ms-windows.misc',\n",
       "       'comp.sys.ibm.pc.hardware', 'comp.sys.mac.hardware',\n",
       "       'comp.windows.x', 'misc.forsale', 'rec.autos', 'rec.motorcycles',\n",
       "       'rec.sport.baseball', 'rec.sport.hockey', 'sci.crypt',\n",
       "       'sci.electronics', 'sci.med', 'sci.space',\n",
       "       'soc.religion.christian', 'talk.politics.guns',\n",
       "       'talk.politics.mideast', 'talk.politics.misc',\n",
       "       'talk.religion.misc'], dtype=object)"
      ]
     },
     "execution_count": 116,
     "metadata": {},
     "output_type": "execute_result"
    }
   ],
   "source": [
    "le.classes_"
   ]
  }
 ],
 "metadata": {
  "accelerator": "GPU",
  "colab": {
   "collapsed_sections": [],
   "name": "Text_Classification_model_1.ipynb",
   "provenance": []
  },
  "gpuClass": "standard",
  "kernelspec": {
   "display_name": "Python 3 (ipykernel)",
   "language": "python",
   "name": "python3"
  },
  "language_info": {
   "codemirror_mode": {
    "name": "ipython",
    "version": 3
   },
   "file_extension": ".py",
   "mimetype": "text/x-python",
   "name": "python",
   "nbconvert_exporter": "python",
   "pygments_lexer": "ipython3",
   "version": "3.8.0"
  }
 },
 "nbformat": 4,
 "nbformat_minor": 5
}
